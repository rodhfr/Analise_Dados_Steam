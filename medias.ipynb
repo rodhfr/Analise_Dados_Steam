{
 "cells": [
  {
   "cell_type": "markdown",
   "metadata": {},
   "source": [
    "## Medias"
   ]
  },
  {
   "cell_type": "markdown",
   "metadata": {},
   "source": [
    "### Médias do SteamDB"
   ]
  },
  {
   "cell_type": "code",
   "execution_count": 14,
   "metadata": {},
   "outputs": [
    {
     "name": "stdout",
     "output_type": "stream",
     "text": [
      "Média das Reviews Totais: 39759.45\n",
      "Média das Reviews Positivas: 38218.62\n",
      "Média das Reviews Negativas: 1540.84\n",
      "\n"
     ]
    }
   ],
   "source": [
    "import pandas as pd\n",
    "\n",
    "df = pd.read_csv('games_data.csv')\n",
    "\n",
    "\n",
    "media_total_reviews = df['total reviews'].mean()\n",
    "media_positiva_reviews = df['positive ratings'].mean()\n",
    "media_negativa_reviews = df['negative ratings'].mean()\n",
    "\n",
    "print(f'Média das Reviews Totais: {media_total_reviews:.2f}')\n",
    "print(f'Média das Reviews Positivas: {media_positiva_reviews:.2f}')\n",
    "print(f'Média das Reviews Negativas: {media_negativa_reviews:.2f}\\n')\n",
    "\n"
   ]
  },
  {
   "cell_type": "markdown",
   "metadata": {},
   "source": [
    "Com esses dados podemos afirmar que a média de um jogo para reviews positivas é de aprox. 38 mil.\n",
    "Já as reviews negativas tem como média aprox. 1500 avaliações.\n",
    "No todo, um jogo em média, detém aprox 40 mil avaliações."
   ]
  },
  {
   "cell_type": "markdown",
   "metadata": {},
   "source": [
    "### Médias das informações do IGDB"
   ]
  },
  {
   "cell_type": "code",
   "execution_count": 52,
   "metadata": {},
   "outputs": [
    {
     "name": "stdout",
     "output_type": "stream",
     "text": [
      "Média dos críticos para todos os jogos: 8.69670588235294\n",
      "Em média da quantidade de críticos que votaram em cada jogo: 6.738823529411765\n",
      "Média da nota pública dos jogos: 7.806638418079095\n",
      "Média da contagem de votantes públicos em cada jogo: 183.1923620933522\n"
     ]
    }
   ],
   "source": [
    "import pandas as pd\n",
    "\n",
    "df = pd.read_csv('games_data.csv')\n",
    "\n",
    "# Limpeza: remover espaços em branco e substituir valores não numéricos por NaN\n",
    "df['public_rating_igdb'] = df['public_rating_igdb'].str.strip()  # Remove espaços em branco\n",
    "df['public_rating_igdb'] = pd.to_numeric(df['public_rating_igdb'], errors='coerce')  # Converte para float, substitui não numéricos por NaN\n",
    "\n",
    "\n",
    "media_aggregated_rating = df['aggregated_rating'].mean()\n",
    "media_aggregated_rating_count = df['aggregated_rating_count'].mean()\n",
    "media_public_rating_igdb = df['public_rating_igdb'].mean()\n",
    "media_public_rating_count = df['public_rating_count'].mean()\n",
    "\n",
    "print(f\"Média dos críticos para todos os jogos: {media_aggregated_rating}\")\n",
    "print(f\"Em média da quantidade de críticos que votaram em cada jogo: {media_aggregated_rating_count}\")\n",
    "print(f\"Média da nota pública dos jogos: {media_public_rating_igdb}\")\n",
    "print(f\"Média da contagem de votantes públicos em cada jogo: {media_public_rating_count}\")\n"
   ]
  },
  {
   "cell_type": "markdown",
   "metadata": {},
   "source": [
    "Temos como média da nota dos críticos 8.69, já do público 7.80. Respectivamente, cada nota dos críticos - em média - tiveram 6 veículos de comunicação. Já do público, houveram - em média 183 votantes."
   ]
  },
  {
   "cell_type": "markdown",
   "metadata": {},
   "source": [
    "## Medianas"
   ]
  },
  {
   "cell_type": "markdown",
   "metadata": {},
   "source": [
    "### Mediana das informações do SteamDB"
   ]
  },
  {
   "cell_type": "code",
   "execution_count": 53,
   "metadata": {},
   "outputs": [
    {
     "name": "stdout",
     "output_type": "stream",
     "text": [
      "Mediana das Reviews Positivas: 7687.00\n",
      "Mediana das Reviews Negativas: 268.00\n",
      "Mediana do Total de Reviews: 8004.50\n",
      "\n"
     ]
    }
   ],
   "source": [
    "import pandas as pd\n",
    "df = pd.read_csv('games_data.csv')\n",
    "\n",
    "mediana_positiva_reviews = df['positive ratings'].median()\n",
    "mediana_negativa_reviews = df['negative ratings'].median()\n",
    "mediana_total = df['total reviews'].median()\n",
    "\n",
    "\n",
    "print(f'Mediana das Reviews Positivas: {mediana_positiva_reviews:.2f}')\n",
    "print(f'Mediana das Reviews Negativas: {mediana_negativa_reviews:.2f}')\n",
    "print(f'Mediana do Total de Reviews: {mediana_total:.2f}\\n')"
   ]
  },
  {
   "cell_type": "markdown",
   "metadata": {},
   "source": [
    "Com a mediana, podemos deduzir que provavelmente o nosso dataset de jogos apresenta dados assimétricos a presença forte de outliers. Haja vista que a mediana das reviews positivas é de apenas 7687, de negativas 268 e totais de 8004.5 reviews o que difere bastante das médias apresentadas anteriormente."
   ]
  },
  {
   "cell_type": "markdown",
   "metadata": {},
   "source": [
    "### Mediana das informações do IGDB"
   ]
  },
  {
   "cell_type": "code",
   "execution_count": 56,
   "metadata": {},
   "outputs": [
    {
     "name": "stdout",
     "output_type": "stream",
     "text": [
      "Mediana dos críticos para todos os jogos: 8.4\n",
      "Mediana da quantidade de críticos que votaram em cada jogo: 4.0\n",
      "Mediana da nota pública dos jogos: 8.0\n",
      "Mediana da contagem de votantes públicos em cada jogo: 33.0\n"
     ]
    }
   ],
   "source": [
    "import pandas as pd\n",
    "df = pd.read_csv('games_data.csv')\n",
    "\n",
    "\n",
    "# Limpeza: remover espaços em branco e substituir valores não numéricos por NaN\n",
    "df['public_rating_igdb'] = df['public_rating_igdb'].str.strip()  # Remove espaços em branco\n",
    "df['public_rating_igdb'] = pd.to_numeric(df['public_rating_igdb'], errors='coerce')  # Converte para float, substitui não numéricos por NaN\n",
    "\n",
    "mediana_aggregated_rating = df['aggregated_rating'].median()\n",
    "mediana_aggregated_rating_count = df['aggregated_rating_count'].median()\n",
    "mediana_public_rating_igdb = df['public_rating_igdb'].median()\n",
    "mediana_public_rating_count = df['public_rating_count'].median()\n",
    "\n",
    "print(f\"Mediana dos críticos para todos os jogos: {mediana_aggregated_rating}\")\n",
    "print(f\"Mediana da quantidade de críticos que votaram em cada jogo: {mediana_aggregated_rating_count}\")\n",
    "print(f\"Mediana da nota pública dos jogos: {mediana_public_rating_igdb}\")\n",
    "print(f\"Mediana da contagem de votantes públicos em cada jogo: {mediana_public_rating_count}\")"
   ]
  },
  {
   "cell_type": "markdown",
   "metadata": {},
   "source": [
    "Mediana dos críticos para os jogos é 8.4 que é relativamente próximo da média o que indica uma possível dispersão pequena.\n",
    "Já da quantidade de veículos de crítica é 4 e a média foi 6 que já é um pouco diferente mas não tão dispare.\n",
    "A mediana da nota pública é maior do que a média (7,8) mas ainda sim, próxima.\n",
    "a mediana da contagem de público votante é 5.45 vezes menor que a média (183)\n"
   ]
  },
  {
   "cell_type": "markdown",
   "metadata": {},
   "source": [
    "### Generos de jogos com mais reviews positivas e com mais reviews negativas"
   ]
  },
  {
   "cell_type": "markdown",
   "metadata": {},
   "source": [
    "#### Listar os Gêneros"
   ]
  },
  {
   "cell_type": "code",
   "execution_count": 32,
   "metadata": {},
   "outputs": [
    {
     "name": "stdout",
     "output_type": "stream",
     "text": [
      "Shooter\n",
      "Puzzle\n",
      "Adventure\n",
      "Role-playing (RPG)\n",
      "Simulator\n",
      "Strategy\n",
      "Indie\n",
      "Arcade\n",
      "hack and slash or beat em up\n",
      "Platform\n",
      "Real Time Strategy (RTS)\n",
      "Point-and-click\n",
      "Fighting\n",
      "Roguelike\n",
      "Tactical\n",
      "Racing\n",
      "Visual Novel\n",
      "Music\n",
      "Turn-based strategy (TBS)\n",
      "Card & Board Game\n",
      "Sport\n",
      "Casual\n",
      "Simulation\n",
      "nan\n",
      "QuizTrivia\n",
      "Action\n",
      "Visual Nove;\n",
      "Pinball\n",
      "Text\n"
     ]
    }
   ],
   "source": [
    "import pandas as pd\n",
    "import ast\n",
    "\n",
    "df = pd.read_csv('games_data.csv')\n",
    "\n",
    "# Converte a coluna 'genres' para listas, caso seja uma string\n",
    "df['genres'] = df['genres'].apply(lambda x: ast.literal_eval(x) if isinstance(x, str) else x)\n",
    "\n",
    "# Expande a coluna de gêneros\n",
    "all_genres = df['genres'].explode()\n",
    "\n",
    "# Remove duplicatas e valores nulos\n",
    "unique_genres = all_genres.unique()\n",
    "\n",
    "# Imprime cada gênero em uma nova linha\n",
    "for genre in unique_genres:\n",
    "    print(genre)\n"
   ]
  },
  {
   "cell_type": "markdown",
   "metadata": {},
   "source": [
    "### Observar quais generos apresentam o maior numero de reviews positivas e negativas na Steam"
   ]
  },
  {
   "cell_type": "code",
   "execution_count": 43,
   "metadata": {},
   "outputs": [
    {
     "name": "stdout",
     "output_type": "stream",
     "text": [
      "Gênero com mais Reviews Positivas: Adventure (23020354)\n",
      "Gênero com mais Reviews Negativas: Adventure (960209)\n",
      "\n"
     ]
    }
   ],
   "source": [
    "import pandas as pd\n",
    "import ast\n",
    "\n",
    "df = pd.read_csv('games_data.csv')\n",
    "\n",
    "df['genres'] = df['genres'].apply(lambda x: ast.literal_eval(x) if isinstance(x, str) else x)\n",
    "\n",
    "expanded_df = df.explode('genres')\n",
    "\n",
    "grouped_genres = expanded_df.groupby('genres').agg({\n",
    "    'positive ratings': 'sum',\n",
    "    'negative ratings': 'sum'\n",
    "}).reset_index()\n",
    "\n",
    "max_positive_genre = grouped_genres.loc[grouped_genres['positive ratings'].idxmax()]\n",
    "max_negative_genre = grouped_genres.loc[grouped_genres['negative ratings'].idxmax()]\n",
    "\n",
    "print(f'Gênero com mais Reviews Positivas: {max_positive_genre[\"genres\"]} ({max_positive_genre[\"positive ratings\"]})')\n",
    "print(f'Gênero com mais Reviews Negativas: {max_negative_genre[\"genres\"]} ({max_negative_genre[\"negative ratings\"]})\\n')\n"
   ]
  },
  {
   "cell_type": "markdown",
   "metadata": {},
   "source": [
    "Descobrimos aqui que o gênero com mais avaliações tanto positivas quanto negativas é o gênero de aventura."
   ]
  }
 ],
 "metadata": {
  "kernelspec": {
   "display_name": "Python 3",
   "language": "python",
   "name": "python3"
  },
  "language_info": {
   "codemirror_mode": {
    "name": "ipython",
    "version": 3
   },
   "file_extension": ".py",
   "mimetype": "text/x-python",
   "name": "python",
   "nbconvert_exporter": "python",
   "pygments_lexer": "ipython3",
   "version": "3.12.7"
  }
 },
 "nbformat": 4,
 "nbformat_minor": 2
}
