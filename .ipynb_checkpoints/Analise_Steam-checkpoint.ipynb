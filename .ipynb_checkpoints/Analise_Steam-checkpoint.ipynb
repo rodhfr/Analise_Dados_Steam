{
 "cells": [
  {
   "cell_type": "code",
   "execution_count": null,
   "metadata": {},
   "outputs": [],
   "source": [
    "import pandas as pd\n",
    "df = pd.read_csv('vgsales.csv')\n",
    "\n",
    "# Calculando o desvio padrão para as colunas de vendas\n",
    "std_na = df['NA_Sales'].std()\n",
    "std_eu = df['EU_Sales'].std()\n",
    "std_jp = df['JP_Sales'].std()\n",
    "std_other = df['Other_Sales'].std()\n",
    "std_global = df['Global_Sales'].std()\n",
    "\n",
    "# Calculando a mediana para as colunas de vendas\n",
    "median_na = df['NA_Sales'].median()\n",
    "median_eu = df['EU_Sales'].median()\n",
    "median_jp = df['JP_Sales'].median()\n",
    "median_other = df['Other_Sales'].median()\n",
    "median_global = df['Global_Sales'].median()\n",
    "\n",
    "# Calculando a média para as colunas de vendas\n",
    "mean_na = df['NA_Sales'].mean()\n",
    "mean_eu = df['EU_Sales'].mean()\n",
    "mean_jp = df['JP_Sales'].mean()\n",
    "mean_other = df['Other_Sales'].mean()\n",
    "mean_global = df['Global_Sales'].mean()\n",
    "\n",
    "# Exibindo os resultados\n",
    "print(f\"Desvio Padrão - NA: {std_na}, EU: {std_eu}, JP: {std_jp}, Other: {std_other}, Global: {std_global}\")\n",
    "print(f\"Mediana - NA: {median_na}, EU: {median_eu}, JP: {median_jp}, Other: {median_other}, Global: {median_global}\")\n",
    "print(f\"Média - NA: {mean_na}, EU: {mean_eu}, JP: {mean_jp}, Other: {mean_other}, Global: {mean_global}\")\n"
   ]
  }
 ],
 "metadata": {
  "language_info": {
   "name": "python"
  }
 },
 "nbformat": 4,
 "nbformat_minor": 2
}
